{
 "cells": [
  {
   "cell_type": "code",
   "execution_count": 1,
   "metadata": {},
   "outputs": [],
   "source": [
    "import pandas as pd\n",
    "import numpy as np"
   ]
  },
  {
   "cell_type": "code",
   "execution_count": 2,
   "metadata": {},
   "outputs": [],
   "source": [
    "# https://www.kaggle.com/datasets/martj42/international-football-results-from-1872-to-2017?resource=download\n",
    "df = pd.read_csv(\"../data/results.csv\")"
   ]
  },
  {
   "cell_type": "code",
   "execution_count": 3,
   "metadata": {
    "scrolled": true
   },
   "outputs": [
    {
     "data": {
      "text/html": [
       "<div>\n",
       "<style scoped>\n",
       "    .dataframe tbody tr th:only-of-type {\n",
       "        vertical-align: middle;\n",
       "    }\n",
       "\n",
       "    .dataframe tbody tr th {\n",
       "        vertical-align: top;\n",
       "    }\n",
       "\n",
       "    .dataframe thead th {\n",
       "        text-align: right;\n",
       "    }\n",
       "</style>\n",
       "<table border=\"1\" class=\"dataframe\">\n",
       "  <thead>\n",
       "    <tr style=\"text-align: right;\">\n",
       "      <th></th>\n",
       "      <th>date</th>\n",
       "      <th>home_team</th>\n",
       "      <th>away_team</th>\n",
       "      <th>home_score</th>\n",
       "      <th>away_score</th>\n",
       "      <th>tournament</th>\n",
       "      <th>city</th>\n",
       "      <th>country</th>\n",
       "      <th>neutral</th>\n",
       "    </tr>\n",
       "  </thead>\n",
       "  <tbody>\n",
       "    <tr>\n",
       "      <th>0</th>\n",
       "      <td>1872-11-30</td>\n",
       "      <td>Scotland</td>\n",
       "      <td>England</td>\n",
       "      <td>0</td>\n",
       "      <td>0</td>\n",
       "      <td>Friendly</td>\n",
       "      <td>Glasgow</td>\n",
       "      <td>Scotland</td>\n",
       "      <td>False</td>\n",
       "    </tr>\n",
       "    <tr>\n",
       "      <th>1</th>\n",
       "      <td>1873-03-08</td>\n",
       "      <td>England</td>\n",
       "      <td>Scotland</td>\n",
       "      <td>4</td>\n",
       "      <td>2</td>\n",
       "      <td>Friendly</td>\n",
       "      <td>London</td>\n",
       "      <td>England</td>\n",
       "      <td>False</td>\n",
       "    </tr>\n",
       "    <tr>\n",
       "      <th>2</th>\n",
       "      <td>1874-03-07</td>\n",
       "      <td>Scotland</td>\n",
       "      <td>England</td>\n",
       "      <td>2</td>\n",
       "      <td>1</td>\n",
       "      <td>Friendly</td>\n",
       "      <td>Glasgow</td>\n",
       "      <td>Scotland</td>\n",
       "      <td>False</td>\n",
       "    </tr>\n",
       "    <tr>\n",
       "      <th>3</th>\n",
       "      <td>1875-03-06</td>\n",
       "      <td>England</td>\n",
       "      <td>Scotland</td>\n",
       "      <td>2</td>\n",
       "      <td>2</td>\n",
       "      <td>Friendly</td>\n",
       "      <td>London</td>\n",
       "      <td>England</td>\n",
       "      <td>False</td>\n",
       "    </tr>\n",
       "    <tr>\n",
       "      <th>4</th>\n",
       "      <td>1876-03-04</td>\n",
       "      <td>Scotland</td>\n",
       "      <td>England</td>\n",
       "      <td>3</td>\n",
       "      <td>0</td>\n",
       "      <td>Friendly</td>\n",
       "      <td>Glasgow</td>\n",
       "      <td>Scotland</td>\n",
       "      <td>False</td>\n",
       "    </tr>\n",
       "  </tbody>\n",
       "</table>\n",
       "</div>"
      ],
      "text/plain": [
       "         date home_team away_team  home_score  away_score tournament     city  \\\n",
       "0  1872-11-30  Scotland   England           0           0   Friendly  Glasgow   \n",
       "1  1873-03-08   England  Scotland           4           2   Friendly   London   \n",
       "2  1874-03-07  Scotland   England           2           1   Friendly  Glasgow   \n",
       "3  1875-03-06   England  Scotland           2           2   Friendly   London   \n",
       "4  1876-03-04  Scotland   England           3           0   Friendly  Glasgow   \n",
       "\n",
       "    country  neutral  \n",
       "0  Scotland    False  \n",
       "1   England    False  \n",
       "2  Scotland    False  \n",
       "3   England    False  \n",
       "4  Scotland    False  "
      ]
     },
     "execution_count": 3,
     "metadata": {},
     "output_type": "execute_result"
    }
   ],
   "source": [
    "df.head()"
   ]
  },
  {
   "cell_type": "code",
   "execution_count": 4,
   "metadata": {},
   "outputs": [],
   "source": [
    "df[\"home_match\"] = (df[\"home_team\"]==df[\"country\"]).astype(int)"
   ]
  },
  {
   "cell_type": "code",
   "execution_count": 5,
   "metadata": {},
   "outputs": [],
   "source": [
    "df[\"result\"] = np.where(df[\"home_score\"]>df[\"away_score\"], 1, np.where(df[\"home_score\"]<df[\"away_score\"], -1, 0))"
   ]
  },
  {
   "cell_type": "code",
   "execution_count": 6,
   "metadata": {},
   "outputs": [],
   "source": [
    "wm_teams = {\n",
    "    \"Qatar\": \"QAT\", \n",
    "    \"Ecuador\":\"ECU\", \n",
    "    \"Senegal\":\"SEN\", \n",
    "    \"Netherlands\":\"NED\",\n",
    "    \"England\":\"ENG\",\n",
    "    \"Iran\":\"IRN\", \n",
    "    \"United States\":\"USA\", \n",
    "    \"Wales\":\"EUR\",\n",
    "    \"Argentina\":\"ARG\", \n",
    "    \"Saudi Arabia\":\"KSA\", \n",
    "    \"Mexico\":\"MEX\", \n",
    "    \"Poland\":\"POL\",\n",
    "    \"France\":\"FRA\", \n",
    "    \"Peru\":\"ICP-1\", \n",
    "    \"Denmark\":\"DEN\", \n",
    "    \"Tunisia\":\"TUN\",\n",
    "    \"Spain\":\"ESP\", \n",
    "    \"New Zealand\":\"ICP-2\", \n",
    "    \"Germany\":\"GER\", \n",
    "    \"Japan\":\"JPN\",\n",
    "    \"Belgium\":\"BEL\", \n",
    "    \"Canada\":\"CAN\", \n",
    "    \"Morocco\":\"MAR\", \n",
    "    \"Croatia\":\"CRO\",\n",
    "    \"Brazil\":\"BRA\", \n",
    "    \"Serbia\":\"SRB\", \n",
    "    \"Switzerland\":\"SUI\", \n",
    "    \"Cameroon\":\"CMR\",\n",
    "    \"Portugal\":\"POR\", \n",
    "    \"Ghana\":\"GHA\", \n",
    "    \"Uruguay\":\"URU\", \n",
    "    \"South Republic\":\"KOR\"\n",
    "}"
   ]
  },
  {
   "cell_type": "code",
   "execution_count": 7,
   "metadata": {},
   "outputs": [],
   "source": [
    "df[\"home_team\"] = df[\"home_team\"].map(wm_teams)\n",
    "df[\"away_team\"] = df[\"away_team\"].map(wm_teams)"
   ]
  },
  {
   "cell_type": "code",
   "execution_count": 8,
   "metadata": {},
   "outputs": [],
   "source": [
    "df = df.dropna()"
   ]
  },
  {
   "cell_type": "code",
   "execution_count": 9,
   "metadata": {},
   "outputs": [],
   "source": [
    "df[\"date\"] = pd.to_datetime(df[\"date\"])"
   ]
  },
  {
   "cell_type": "code",
   "execution_count": 10,
   "metadata": {},
   "outputs": [],
   "source": [
    "df = df[df[\"date\"].dt.year >= 1922].reset_index(drop=True)"
   ]
  },
  {
   "cell_type": "code",
   "execution_count": 11,
   "metadata": {},
   "outputs": [
    {
     "data": {
      "text/plain": [
       " 1    1742\n",
       "-1    1053\n",
       " 0     928\n",
       "Name: result, dtype: int64"
      ]
     },
     "execution_count": 11,
     "metadata": {},
     "output_type": "execute_result"
    }
   ],
   "source": [
    "df[\"result\"].value_counts()"
   ]
  },
  {
   "cell_type": "code",
   "execution_count": 12,
   "metadata": {},
   "outputs": [
    {
     "data": {
      "text/html": [
       "<div>\n",
       "<style scoped>\n",
       "    .dataframe tbody tr th:only-of-type {\n",
       "        vertical-align: middle;\n",
       "    }\n",
       "\n",
       "    .dataframe tbody tr th {\n",
       "        vertical-align: top;\n",
       "    }\n",
       "\n",
       "    .dataframe thead th {\n",
       "        text-align: right;\n",
       "    }\n",
       "</style>\n",
       "<table border=\"1\" class=\"dataframe\">\n",
       "  <thead>\n",
       "    <tr style=\"text-align: right;\">\n",
       "      <th></th>\n",
       "      <th>date</th>\n",
       "      <th>home_team</th>\n",
       "      <th>away_team</th>\n",
       "      <th>home_score</th>\n",
       "      <th>away_score</th>\n",
       "      <th>tournament</th>\n",
       "      <th>city</th>\n",
       "      <th>country</th>\n",
       "      <th>neutral</th>\n",
       "      <th>home_match</th>\n",
       "      <th>result</th>\n",
       "    </tr>\n",
       "  </thead>\n",
       "  <tbody>\n",
       "    <tr>\n",
       "      <th>0</th>\n",
       "      <td>1922-01-15</td>\n",
       "      <td>FRA</td>\n",
       "      <td>BEL</td>\n",
       "      <td>2</td>\n",
       "      <td>1</td>\n",
       "      <td>Friendly</td>\n",
       "      <td>Colombes</td>\n",
       "      <td>France</td>\n",
       "      <td>False</td>\n",
       "      <td>1</td>\n",
       "      <td>1</td>\n",
       "    </tr>\n",
       "    <tr>\n",
       "      <th>1</th>\n",
       "      <td>1922-03-13</td>\n",
       "      <td>ENG</td>\n",
       "      <td>EUR</td>\n",
       "      <td>1</td>\n",
       "      <td>0</td>\n",
       "      <td>British Championship</td>\n",
       "      <td>Liverpool</td>\n",
       "      <td>England</td>\n",
       "      <td>False</td>\n",
       "      <td>1</td>\n",
       "      <td>1</td>\n",
       "    </tr>\n",
       "    <tr>\n",
       "      <th>2</th>\n",
       "      <td>1922-03-26</td>\n",
       "      <td>BEL</td>\n",
       "      <td>NED</td>\n",
       "      <td>4</td>\n",
       "      <td>0</td>\n",
       "      <td>Friendly</td>\n",
       "      <td>Antwerp</td>\n",
       "      <td>Belgium</td>\n",
       "      <td>False</td>\n",
       "      <td>1</td>\n",
       "      <td>1</td>\n",
       "    </tr>\n",
       "    <tr>\n",
       "      <th>3</th>\n",
       "      <td>1922-03-26</td>\n",
       "      <td>GER</td>\n",
       "      <td>SUI</td>\n",
       "      <td>2</td>\n",
       "      <td>2</td>\n",
       "      <td>Friendly</td>\n",
       "      <td>Frankfurt am Main</td>\n",
       "      <td>Germany</td>\n",
       "      <td>False</td>\n",
       "      <td>1</td>\n",
       "      <td>0</td>\n",
       "    </tr>\n",
       "    <tr>\n",
       "      <th>4</th>\n",
       "      <td>1922-04-15</td>\n",
       "      <td>BEL</td>\n",
       "      <td>DEN</td>\n",
       "      <td>0</td>\n",
       "      <td>0</td>\n",
       "      <td>Friendly</td>\n",
       "      <td>Liège</td>\n",
       "      <td>Belgium</td>\n",
       "      <td>False</td>\n",
       "      <td>1</td>\n",
       "      <td>0</td>\n",
       "    </tr>\n",
       "  </tbody>\n",
       "</table>\n",
       "</div>"
      ],
      "text/plain": [
       "        date home_team away_team  home_score  away_score  \\\n",
       "0 1922-01-15       FRA       BEL           2           1   \n",
       "1 1922-03-13       ENG       EUR           1           0   \n",
       "2 1922-03-26       BEL       NED           4           0   \n",
       "3 1922-03-26       GER       SUI           2           2   \n",
       "4 1922-04-15       BEL       DEN           0           0   \n",
       "\n",
       "             tournament               city  country  neutral  home_match  \\\n",
       "0              Friendly           Colombes   France    False           1   \n",
       "1  British Championship          Liverpool  England    False           1   \n",
       "2              Friendly            Antwerp  Belgium    False           1   \n",
       "3              Friendly  Frankfurt am Main  Germany    False           1   \n",
       "4              Friendly              Liège  Belgium    False           1   \n",
       "\n",
       "   result  \n",
       "0       1  \n",
       "1       1  \n",
       "2       1  \n",
       "3       0  \n",
       "4       0  "
      ]
     },
     "execution_count": 12,
     "metadata": {},
     "output_type": "execute_result"
    }
   ],
   "source": [
    "df.head()"
   ]
  },
  {
   "cell_type": "code",
   "execution_count": 13,
   "metadata": {},
   "outputs": [],
   "source": [
    "###  Elo score from \n",
    "# https://medium.com/mlearning-ai/how-to-calculate-elo-score-for-international-teams-using-python-66c136f01048"
   ]
  },
  {
   "cell_type": "code",
   "execution_count": 14,
   "metadata": {},
   "outputs": [],
   "source": [
    "confederation_tournaments=['AFC Asian Cup','African Cup of Nations','UEFA Euro','Copa América','CONCACAF Championship','Oceania Nations Cup']\n",
    "\n",
    "def k_value(tournament):\n",
    "    k=5\n",
    "    if tournament == 'Friendly':\n",
    "        k=10\n",
    "    elif tournament == 'FIFA World Cup qualification':\n",
    "        k=25\n",
    "    elif tournament in confederation_tournaments:\n",
    "        k=40\n",
    "    elif tournament == 'FIFA World Cup':\n",
    "        k=55\n",
    "    return k\n",
    "    \n",
    "def expected_result(loc,aw):\n",
    "    dr=loc-aw\n",
    "    we=(1/(10**(-dr/400)+1))\n",
    "    return [np.round(we,3),1-np.round(we,3)]\n",
    "\n",
    "def actual_result(loc,aw):\n",
    "    if loc<aw:\n",
    "        wa=1\n",
    "        wl=0\n",
    "    elif loc>aw:\n",
    "        wa=0\n",
    "        wl=1\n",
    "    elif loc==aw:\n",
    "        wa=0.5\n",
    "        wl=0.5\n",
    "    return [wl,wa]\n",
    "\n",
    "def calculate_elo(elo_l,elo_v,local_goals,away_goals,tournament):\n",
    "    \n",
    "    k=k_value(tournament)\n",
    "    wl,wv=actual_result(local_goals,away_goals)\n",
    "    wel,wev=expected_result(elo_l,elo_v)\n",
    "\n",
    "    elo_ln=elo_l+k*(wl-wel)\n",
    "    elo_vn=elo_v+k*(wv-wev)\n",
    "\n",
    "    return elo_ln,elo_vn"
   ]
  },
  {
   "cell_type": "code",
   "execution_count": null,
   "metadata": {},
   "outputs": [],
   "source": [
    "current_elo={}\n",
    "for idx,row in df.iterrows():\n",
    "    \n",
    "    local=row['home_team']\n",
    "    away=row['away_team']\n",
    "    local_goals=row['home_score']\n",
    "    away_goals=row['away_score']\n",
    "    tournament = row['tournament']\n",
    "    \n",
    "\n",
    "    if local not in current_elo.keys():\n",
    "        current_elo[local]=1300\n",
    "    \n",
    "    if away not in current_elo.keys():\n",
    "        current_elo[away]=1300\n",
    "    \n",
    "    elo_l=current_elo[local]\n",
    "    elo_v=current_elo[away]\n",
    "    elo_ln,elo_vn=calculate_elo(elo_l,elo_v,local_goals,away_goals,tournament)\n",
    "\n",
    "    current_elo[local]=elo_ln\n",
    "    current_elo[away]=elo_vn\n",
    "    \n",
    "    df.loc[idx,'Elo_h_after']=elo_ln\n",
    "    df.loc[idx,'Elo_a_after']=elo_vn \n",
    "    df.loc[idx,'Elo_h_before']=elo_l\n",
    "    df.loc[idx,'Elo_a_before']=elo_v"
   ]
  },
  {
   "cell_type": "code",
   "execution_count": null,
   "metadata": {},
   "outputs": [],
   "source": [
    "df.head()"
   ]
  },
  {
   "cell_type": "code",
   "execution_count": null,
   "metadata": {},
   "outputs": [],
   "source": [
    "df = df.rename(columns={\"Elo_h_before\":\"home_elo\", \"Elo_a_before\":\"away_elo\"})"
   ]
  },
  {
   "cell_type": "code",
   "execution_count": null,
   "metadata": {},
   "outputs": [],
   "source": [
    "df[\n",
    "    [\"date\",\"home_team\",\"away_team\",\"home_score\",\"away_score\",\"away_elo\",\"home_elo\",\"tournament\",\"home_match\",\"result\"]\n",
    "].to_pickle(\"../data/results_prep.pkl\")"
   ]
  }
 ],
 "metadata": {
  "interpreter": {
   "hash": "ecbe09445d2d560a5da9c8a94d87f299626bdd4f1e8554b26ec033f76ecca7a0"
  },
  "kernelspec": {
   "display_name": "Python 3",
   "language": "python",
   "name": "python3"
  },
  "language_info": {
   "codemirror_mode": {
    "name": "ipython",
    "version": 3
   },
   "file_extension": ".py",
   "mimetype": "text/x-python",
   "name": "python",
   "nbconvert_exporter": "python",
   "pygments_lexer": "ipython3",
   "version": "3.7.10"
  }
 },
 "nbformat": 4,
 "nbformat_minor": 2
}
