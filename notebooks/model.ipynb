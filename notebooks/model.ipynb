{
 "cells": [
  {
   "cell_type": "code",
   "execution_count": 1,
   "metadata": {},
   "outputs": [],
   "source": [
    "import pandas as pd\n",
    "import numpy as np\n",
    "import matplotlib.pyplot as plt\n",
    "from sklearn.preprocessing import LabelEncoder\n",
    "from sklearn.ensemble import GradientBoostingClassifier\n",
    "from sklearn.metrics import accuracy_score, confusion_matrix, plot_confusion_matrix, classification_report"
   ]
  },
  {
   "cell_type": "code",
   "execution_count": 2,
   "metadata": {},
   "outputs": [],
   "source": [
    "df = pd.read_pickle(\"../data/data_prep.pkl\")"
   ]
  },
  {
   "cell_type": "code",
   "execution_count": 3,
   "metadata": {
    "scrolled": true
   },
   "outputs": [
    {
     "data": {
      "text/html": [
       "<div>\n",
       "<style scoped>\n",
       "    .dataframe tbody tr th:only-of-type {\n",
       "        vertical-align: middle;\n",
       "    }\n",
       "\n",
       "    .dataframe tbody tr th {\n",
       "        vertical-align: top;\n",
       "    }\n",
       "\n",
       "    .dataframe thead th {\n",
       "        text-align: right;\n",
       "    }\n",
       "</style>\n",
       "<table border=\"1\" class=\"dataframe\">\n",
       "  <thead>\n",
       "    <tr style=\"text-align: right;\">\n",
       "      <th></th>\n",
       "      <th>date</th>\n",
       "      <th>team</th>\n",
       "      <th>opponent</th>\n",
       "      <th>score</th>\n",
       "      <th>elo</th>\n",
       "      <th>opponent_elo</th>\n",
       "      <th>home_match</th>\n",
       "      <th>result</th>\n",
       "      <th>match</th>\n",
       "      <th>last_result</th>\n",
       "      <th>last3_result</th>\n",
       "      <th>ewm_score</th>\n",
       "      <th>last_result_opponent</th>\n",
       "      <th>last3_result_opponent</th>\n",
       "      <th>ewm_score_opponent</th>\n",
       "      <th>last_result_diff</th>\n",
       "      <th>last3_result_diff</th>\n",
       "      <th>ewm_score_diff</th>\n",
       "      <th>elo_diff</th>\n",
       "    </tr>\n",
       "  </thead>\n",
       "  <tbody>\n",
       "    <tr>\n",
       "      <th>0</th>\n",
       "      <td>1922-01-15</td>\n",
       "      <td>FRA</td>\n",
       "      <td>BEL</td>\n",
       "      <td>2</td>\n",
       "      <td>1300.0</td>\n",
       "      <td>1300.0</td>\n",
       "      <td>1</td>\n",
       "      <td>1</td>\n",
       "      <td>BEL-FRA</td>\n",
       "      <td>NaN</td>\n",
       "      <td>NaN</td>\n",
       "      <td>NaN</td>\n",
       "      <td>NaN</td>\n",
       "      <td>NaN</td>\n",
       "      <td>NaN</td>\n",
       "      <td>NaN</td>\n",
       "      <td>NaN</td>\n",
       "      <td>NaN</td>\n",
       "      <td>0.0</td>\n",
       "    </tr>\n",
       "    <tr>\n",
       "      <th>1</th>\n",
       "      <td>1922-01-15</td>\n",
       "      <td>BEL</td>\n",
       "      <td>FRA</td>\n",
       "      <td>1</td>\n",
       "      <td>1300.0</td>\n",
       "      <td>1300.0</td>\n",
       "      <td>0</td>\n",
       "      <td>-1</td>\n",
       "      <td>BEL-FRA</td>\n",
       "      <td>NaN</td>\n",
       "      <td>NaN</td>\n",
       "      <td>NaN</td>\n",
       "      <td>NaN</td>\n",
       "      <td>NaN</td>\n",
       "      <td>NaN</td>\n",
       "      <td>NaN</td>\n",
       "      <td>NaN</td>\n",
       "      <td>NaN</td>\n",
       "      <td>0.0</td>\n",
       "    </tr>\n",
       "    <tr>\n",
       "      <th>2</th>\n",
       "      <td>1922-03-13</td>\n",
       "      <td>ENG</td>\n",
       "      <td>EUR</td>\n",
       "      <td>1</td>\n",
       "      <td>1300.0</td>\n",
       "      <td>1300.0</td>\n",
       "      <td>1</td>\n",
       "      <td>1</td>\n",
       "      <td>ENG-EUR</td>\n",
       "      <td>NaN</td>\n",
       "      <td>NaN</td>\n",
       "      <td>NaN</td>\n",
       "      <td>NaN</td>\n",
       "      <td>NaN</td>\n",
       "      <td>NaN</td>\n",
       "      <td>NaN</td>\n",
       "      <td>NaN</td>\n",
       "      <td>NaN</td>\n",
       "      <td>0.0</td>\n",
       "    </tr>\n",
       "    <tr>\n",
       "      <th>3</th>\n",
       "      <td>1922-03-13</td>\n",
       "      <td>EUR</td>\n",
       "      <td>ENG</td>\n",
       "      <td>0</td>\n",
       "      <td>1300.0</td>\n",
       "      <td>1300.0</td>\n",
       "      <td>0</td>\n",
       "      <td>-1</td>\n",
       "      <td>ENG-EUR</td>\n",
       "      <td>NaN</td>\n",
       "      <td>NaN</td>\n",
       "      <td>NaN</td>\n",
       "      <td>NaN</td>\n",
       "      <td>NaN</td>\n",
       "      <td>NaN</td>\n",
       "      <td>NaN</td>\n",
       "      <td>NaN</td>\n",
       "      <td>NaN</td>\n",
       "      <td>0.0</td>\n",
       "    </tr>\n",
       "    <tr>\n",
       "      <th>4</th>\n",
       "      <td>1922-03-26</td>\n",
       "      <td>BEL</td>\n",
       "      <td>NED</td>\n",
       "      <td>4</td>\n",
       "      <td>1295.0</td>\n",
       "      <td>1300.0</td>\n",
       "      <td>1</td>\n",
       "      <td>1</td>\n",
       "      <td>BEL-NED</td>\n",
       "      <td>-1.0</td>\n",
       "      <td>NaN</td>\n",
       "      <td>1.0</td>\n",
       "      <td>NaN</td>\n",
       "      <td>NaN</td>\n",
       "      <td>NaN</td>\n",
       "      <td>NaN</td>\n",
       "      <td>NaN</td>\n",
       "      <td>NaN</td>\n",
       "      <td>-5.0</td>\n",
       "    </tr>\n",
       "  </tbody>\n",
       "</table>\n",
       "</div>"
      ],
      "text/plain": [
       "        date team opponent  score     elo  opponent_elo  home_match  result  \\\n",
       "0 1922-01-15  FRA      BEL      2  1300.0        1300.0           1       1   \n",
       "1 1922-01-15  BEL      FRA      1  1300.0        1300.0           0      -1   \n",
       "2 1922-03-13  ENG      EUR      1  1300.0        1300.0           1       1   \n",
       "3 1922-03-13  EUR      ENG      0  1300.0        1300.0           0      -1   \n",
       "4 1922-03-26  BEL      NED      4  1295.0        1300.0           1       1   \n",
       "\n",
       "     match  last_result  last3_result  ewm_score  last_result_opponent  \\\n",
       "0  BEL-FRA          NaN           NaN        NaN                   NaN   \n",
       "1  BEL-FRA          NaN           NaN        NaN                   NaN   \n",
       "2  ENG-EUR          NaN           NaN        NaN                   NaN   \n",
       "3  ENG-EUR          NaN           NaN        NaN                   NaN   \n",
       "4  BEL-NED         -1.0           NaN        1.0                   NaN   \n",
       "\n",
       "   last3_result_opponent  ewm_score_opponent  last_result_diff  \\\n",
       "0                    NaN                 NaN               NaN   \n",
       "1                    NaN                 NaN               NaN   \n",
       "2                    NaN                 NaN               NaN   \n",
       "3                    NaN                 NaN               NaN   \n",
       "4                    NaN                 NaN               NaN   \n",
       "\n",
       "   last3_result_diff  ewm_score_diff  elo_diff  \n",
       "0                NaN             NaN       0.0  \n",
       "1                NaN             NaN       0.0  \n",
       "2                NaN             NaN       0.0  \n",
       "3                NaN             NaN       0.0  \n",
       "4                NaN             NaN      -5.0  "
      ]
     },
     "execution_count": 3,
     "metadata": {},
     "output_type": "execute_result"
    }
   ],
   "source": [
    "df.head()"
   ]
  },
  {
   "cell_type": "code",
   "execution_count": 4,
   "metadata": {},
   "outputs": [],
   "source": [
    "# df = df[df[\"tournament\"].isin([\n",
    "#     'FIFA World Cup',\n",
    "#     'FIFA World Cup qualification',\n",
    "#     #'Friendly',\n",
    "#     'UEFA Euro',\n",
    "#     'UEFA Euro qualification',\n",
    "#     'UEFA Nations League',\n",
    "# ])]"
   ]
  },
  {
   "cell_type": "code",
   "execution_count": 5,
   "metadata": {},
   "outputs": [],
   "source": [
    "df = df.dropna()"
   ]
  },
  {
   "cell_type": "code",
   "execution_count": 6,
   "metadata": {},
   "outputs": [
    {
     "data": {
      "text/html": [
       "<div>\n",
       "<style scoped>\n",
       "    .dataframe tbody tr th:only-of-type {\n",
       "        vertical-align: middle;\n",
       "    }\n",
       "\n",
       "    .dataframe tbody tr th {\n",
       "        vertical-align: top;\n",
       "    }\n",
       "\n",
       "    .dataframe thead th {\n",
       "        text-align: right;\n",
       "    }\n",
       "</style>\n",
       "<table border=\"1\" class=\"dataframe\">\n",
       "  <thead>\n",
       "    <tr style=\"text-align: right;\">\n",
       "      <th></th>\n",
       "      <th>date</th>\n",
       "      <th>team</th>\n",
       "      <th>opponent</th>\n",
       "      <th>score</th>\n",
       "      <th>elo</th>\n",
       "      <th>opponent_elo</th>\n",
       "      <th>home_match</th>\n",
       "      <th>result</th>\n",
       "      <th>match</th>\n",
       "      <th>last_result</th>\n",
       "      <th>last3_result</th>\n",
       "      <th>ewm_score</th>\n",
       "      <th>last_result_opponent</th>\n",
       "      <th>last3_result_opponent</th>\n",
       "      <th>ewm_score_opponent</th>\n",
       "      <th>last_result_diff</th>\n",
       "      <th>last3_result_diff</th>\n",
       "      <th>ewm_score_diff</th>\n",
       "      <th>elo_diff</th>\n",
       "    </tr>\n",
       "  </thead>\n",
       "  <tbody>\n",
       "    <tr>\n",
       "      <th>28</th>\n",
       "      <td>1922-12-10</td>\n",
       "      <td>URU</td>\n",
       "      <td>ARG</td>\n",
       "      <td>1</td>\n",
       "      <td>1322.065</td>\n",
       "      <td>1257.005</td>\n",
       "      <td>1</td>\n",
       "      <td>1</td>\n",
       "      <td>ARG-URU</td>\n",
       "      <td>1.0</td>\n",
       "      <td>0.666667</td>\n",
       "      <td>0.730897</td>\n",
       "      <td>1.0</td>\n",
       "      <td>1.000000</td>\n",
       "      <td>1.490099</td>\n",
       "      <td>0.0</td>\n",
       "      <td>-0.333333</td>\n",
       "      <td>-0.759202</td>\n",
       "      <td>65.06</td>\n",
       "    </tr>\n",
       "    <tr>\n",
       "      <th>29</th>\n",
       "      <td>1922-12-10</td>\n",
       "      <td>ARG</td>\n",
       "      <td>URU</td>\n",
       "      <td>0</td>\n",
       "      <td>1257.005</td>\n",
       "      <td>1322.065</td>\n",
       "      <td>0</td>\n",
       "      <td>-1</td>\n",
       "      <td>ARG-URU</td>\n",
       "      <td>-1.0</td>\n",
       "      <td>-1.000000</td>\n",
       "      <td>0.269554</td>\n",
       "      <td>-1.0</td>\n",
       "      <td>-0.666667</td>\n",
       "      <td>0.000000</td>\n",
       "      <td>0.0</td>\n",
       "      <td>-0.333333</td>\n",
       "      <td>0.269554</td>\n",
       "      <td>-65.06</td>\n",
       "    </tr>\n",
       "    <tr>\n",
       "      <th>30</th>\n",
       "      <td>1922-12-17</td>\n",
       "      <td>ARG</td>\n",
       "      <td>URU</td>\n",
       "      <td>2</td>\n",
       "      <td>1254.970</td>\n",
       "      <td>1324.100</td>\n",
       "      <td>1</td>\n",
       "      <td>0</td>\n",
       "      <td>ARG-URU</td>\n",
       "      <td>-1.0</td>\n",
       "      <td>-1.000000</td>\n",
       "      <td>0.192173</td>\n",
       "      <td>-1.0</td>\n",
       "      <td>-1.000000</td>\n",
       "      <td>0.000000</td>\n",
       "      <td>0.0</td>\n",
       "      <td>0.000000</td>\n",
       "      <td>0.192173</td>\n",
       "      <td>-69.13</td>\n",
       "    </tr>\n",
       "    <tr>\n",
       "      <th>31</th>\n",
       "      <td>1922-12-17</td>\n",
       "      <td>URU</td>\n",
       "      <td>ARG</td>\n",
       "      <td>2</td>\n",
       "      <td>1324.100</td>\n",
       "      <td>1254.970</td>\n",
       "      <td>0</td>\n",
       "      <td>0</td>\n",
       "      <td>ARG-URU</td>\n",
       "      <td>1.0</td>\n",
       "      <td>1.000000</td>\n",
       "      <td>0.819554</td>\n",
       "      <td>1.0</td>\n",
       "      <td>1.000000</td>\n",
       "      <td>1.349405</td>\n",
       "      <td>0.0</td>\n",
       "      <td>0.000000</td>\n",
       "      <td>-0.529850</td>\n",
       "      <td>69.13</td>\n",
       "    </tr>\n",
       "    <tr>\n",
       "      <th>36</th>\n",
       "      <td>1923-02-04</td>\n",
       "      <td>BEL</td>\n",
       "      <td>ESP</td>\n",
       "      <td>1</td>\n",
       "      <td>1305.070</td>\n",
       "      <td>1314.860</td>\n",
       "      <td>1</td>\n",
       "      <td>1</td>\n",
       "      <td>BEL-ESP</td>\n",
       "      <td>1.0</td>\n",
       "      <td>0.666667</td>\n",
       "      <td>1.721535</td>\n",
       "      <td>-1.0</td>\n",
       "      <td>-1.000000</td>\n",
       "      <td>0.328904</td>\n",
       "      <td>2.0</td>\n",
       "      <td>1.666667</td>\n",
       "      <td>1.392631</td>\n",
       "      <td>-9.79</td>\n",
       "    </tr>\n",
       "  </tbody>\n",
       "</table>\n",
       "</div>"
      ],
      "text/plain": [
       "         date team opponent  score       elo  opponent_elo  home_match  \\\n",
       "28 1922-12-10  URU      ARG      1  1322.065      1257.005           1   \n",
       "29 1922-12-10  ARG      URU      0  1257.005      1322.065           0   \n",
       "30 1922-12-17  ARG      URU      2  1254.970      1324.100           1   \n",
       "31 1922-12-17  URU      ARG      2  1324.100      1254.970           0   \n",
       "36 1923-02-04  BEL      ESP      1  1305.070      1314.860           1   \n",
       "\n",
       "    result    match  last_result  last3_result  ewm_score  \\\n",
       "28       1  ARG-URU          1.0      0.666667   0.730897   \n",
       "29      -1  ARG-URU         -1.0     -1.000000   0.269554   \n",
       "30       0  ARG-URU         -1.0     -1.000000   0.192173   \n",
       "31       0  ARG-URU          1.0      1.000000   0.819554   \n",
       "36       1  BEL-ESP          1.0      0.666667   1.721535   \n",
       "\n",
       "    last_result_opponent  last3_result_opponent  ewm_score_opponent  \\\n",
       "28                   1.0               1.000000            1.490099   \n",
       "29                  -1.0              -0.666667            0.000000   \n",
       "30                  -1.0              -1.000000            0.000000   \n",
       "31                   1.0               1.000000            1.349405   \n",
       "36                  -1.0              -1.000000            0.328904   \n",
       "\n",
       "    last_result_diff  last3_result_diff  ewm_score_diff  elo_diff  \n",
       "28               0.0          -0.333333       -0.759202     65.06  \n",
       "29               0.0          -0.333333        0.269554    -65.06  \n",
       "30               0.0           0.000000        0.192173    -69.13  \n",
       "31               0.0           0.000000       -0.529850     69.13  \n",
       "36               2.0           1.666667        1.392631     -9.79  "
      ]
     },
     "execution_count": 6,
     "metadata": {},
     "output_type": "execute_result"
    }
   ],
   "source": [
    "df.head()"
   ]
  },
  {
   "cell_type": "code",
   "execution_count": 7,
   "metadata": {},
   "outputs": [],
   "source": [
    "team_le = LabelEncoder()\n",
    "opp_le = LabelEncoder()\n",
    "match_le = LabelEncoder()"
   ]
  },
  {
   "cell_type": "code",
   "execution_count": 8,
   "metadata": {},
   "outputs": [],
   "source": [
    "df[\"team_enc\"] = team_le.fit_transform(df[\"team\"])#.copy()\n",
    "df[\"opponent_enc\"] = opp_le.fit_transform(df[\"opponent\"])\n",
    "#df[\"match_enc\"] = match_le.fit_transform(df[\"match\"])"
   ]
  },
  {
   "cell_type": "code",
   "execution_count": 9,
   "metadata": {},
   "outputs": [],
   "source": [
    "df[\"score\"] = df[\"score\"].clip(0,4)"
   ]
  },
  {
   "cell_type": "code",
   "execution_count": 10,
   "metadata": {},
   "outputs": [],
   "source": [
    "train = df[df[\"date\"].dt.year.between(1950, 2010)].copy()\n",
    "test = df[df[\"date\"].dt.year.between(2011, 2019)].copy()"
   ]
  },
  {
   "cell_type": "code",
   "execution_count": 11,
   "metadata": {},
   "outputs": [
    {
     "data": {
      "text/plain": [
       "(5136, 1066)"
      ]
     },
     "execution_count": 11,
     "metadata": {},
     "output_type": "execute_result"
    }
   ],
   "source": [
    "len(train), len(test)"
   ]
  },
  {
   "cell_type": "markdown",
   "metadata": {},
   "source": [
    "# Result Model"
   ]
  },
  {
   "cell_type": "code",
   "execution_count": 12,
   "metadata": {},
   "outputs": [],
   "source": [
    "model = GradientBoostingClassifier(n_estimators=200, random_state=123)"
   ]
  },
  {
   "cell_type": "code",
   "execution_count": 13,
   "metadata": {},
   "outputs": [
    {
     "data": {
      "text/plain": [
       "['elo',\n",
       " 'opponent_elo',\n",
       " 'home_match',\n",
       " 'last_result',\n",
       " 'last3_result',\n",
       " 'ewm_score',\n",
       " 'last_result_opponent',\n",
       " 'last3_result_opponent',\n",
       " 'ewm_score_opponent',\n",
       " 'last_result_diff',\n",
       " 'last3_result_diff',\n",
       " 'ewm_score_diff',\n",
       " 'elo_diff',\n",
       " 'team_enc',\n",
       " 'opponent_enc']"
      ]
     },
     "execution_count": 13,
     "metadata": {},
     "output_type": "execute_result"
    }
   ],
   "source": [
    "features = [c for c in df.columns if c not in [\"date\",\"team\",\"opponent\",\"match\",\"result\", \"score\", \"result_classes\"]]\n",
    "features"
   ]
  },
  {
   "cell_type": "code",
   "execution_count": 14,
   "metadata": {},
   "outputs": [],
   "source": [
    "#train[features]"
   ]
  },
  {
   "cell_type": "code",
   "execution_count": 15,
   "metadata": {},
   "outputs": [],
   "source": [
    "target = \"result\"\n",
    "#target = \"result_classes\" # classes like 1:0, 2:1, ..."
   ]
  },
  {
   "cell_type": "code",
   "execution_count": 16,
   "metadata": {},
   "outputs": [
    {
     "data": {
      "text/plain": [
       "GradientBoostingClassifier(n_estimators=200, random_state=123)"
      ]
     },
     "execution_count": 16,
     "metadata": {},
     "output_type": "execute_result"
    }
   ],
   "source": [
    "model.fit(train[features], \n",
    "          train[target]\n",
    "         )"
   ]
  },
  {
   "cell_type": "code",
   "execution_count": 17,
   "metadata": {},
   "outputs": [],
   "source": [
    "test[f\"{target}_pred\"] = model.predict(test[features])"
   ]
  },
  {
   "cell_type": "code",
   "execution_count": 18,
   "metadata": {},
   "outputs": [
    {
     "data": {
      "text/plain": [
       "0.49906191369606"
      ]
     },
     "execution_count": 18,
     "metadata": {},
     "output_type": "execute_result"
    }
   ],
   "source": [
    "accuracy_score(test[target], test[f\"{target}_pred\"])"
   ]
  },
  {
   "cell_type": "code",
   "execution_count": 19,
   "metadata": {},
   "outputs": [],
   "source": [
    "#train[\"result_pred\"] = model.predict(train[features])"
   ]
  },
  {
   "cell_type": "code",
   "execution_count": 20,
   "metadata": {},
   "outputs": [
    {
     "data": {
      "text/plain": [
       "<sklearn.metrics._plot.confusion_matrix.ConfusionMatrixDisplay at 0x1cce2872f48>"
      ]
     },
     "execution_count": 20,
     "metadata": {},
     "output_type": "execute_result"
    },
    {
     "data": {
      "image/png": "[encoded data removed]",
      "text/plain": [
       "<Figure size 720x720 with 2 Axes>"
      ]
     },
     "metadata": {
      "needs_background": "light"
     },
     "output_type": "display_data"
    }
   ],
   "source": [
    "fig, ax = plt.subplots(figsize=(10, 10))\n",
    "plot_confusion_matrix(model, test[features], test[f\"{target}\"], ax=ax)"
   ]
  },
  {
   "cell_type": "code",
   "execution_count": 21,
   "metadata": {},
   "outputs": [
    {
     "data": {
      "text/plain": [
       "<BarContainer object of 15 artists>"
      ]
     },
     "execution_count": 21,
     "metadata": {},
     "output_type": "execute_result"
    },
    {
     "data": {
      "image/png": "[encoded data removed]",
      "text/plain": [
       "<Figure size 432x288 with 1 Axes>"
      ]
     },
     "metadata": {
      "needs_background": "light"
     },
     "output_type": "display_data"
    }
   ],
   "source": [
    "data={'feature_names':np.array(train[features].columns),\n",
    "      'feature_importance':np.array(model.feature_importances_)}\n",
    "fi_df = pd.DataFrame(data).sort_values([\"feature_importance\"], ascending=True)\n",
    "plt.barh(fi_df[\"feature_names\"].values, fi_df[\"feature_importance\"].values)"
   ]
  },
  {
   "cell_type": "markdown",
   "metadata": {},
   "source": [
    "# Goal model"
   ]
  },
  {
   "cell_type": "code",
   "execution_count": 22,
   "metadata": {},
   "outputs": [],
   "source": [
    "features = [c for c in train.columns if c not in [\"date\",\"team\",\"opponent\",\"match\",\"result\", \"score\", \"result_classes\"]]"
   ]
  },
  {
   "cell_type": "code",
   "execution_count": 23,
   "metadata": {},
   "outputs": [],
   "source": [
    "goal_model = GradientBoostingClassifier(n_estimators=100, random_state=123)"
   ]
  },
  {
   "cell_type": "code",
   "execution_count": 24,
   "metadata": {},
   "outputs": [],
   "source": [
    "#train[features]"
   ]
  },
  {
   "cell_type": "code",
   "execution_count": 25,
   "metadata": {},
   "outputs": [
    {
     "data": {
      "text/plain": [
       "GradientBoostingClassifier(random_state=123)"
      ]
     },
     "execution_count": 25,
     "metadata": {},
     "output_type": "execute_result"
    }
   ],
   "source": [
    "goal_model.fit(train[features], \n",
    "               train[\"score\"]\n",
    "              )"
   ]
  },
  {
   "cell_type": "code",
   "execution_count": 26,
   "metadata": {},
   "outputs": [],
   "source": [
    "test[\"score_pred\"] = goal_model.predict(test[features])"
   ]
  },
  {
   "cell_type": "code",
   "execution_count": 27,
   "metadata": {},
   "outputs": [
    {
     "data": {
      "text/plain": [
       "0.3330206378986867"
      ]
     },
     "execution_count": 27,
     "metadata": {},
     "output_type": "execute_result"
    }
   ],
   "source": [
    "accuracy_score(test[\"score\"], test[\"score_pred\"])"
   ]
  },
  {
   "cell_type": "code",
   "execution_count": 28,
   "metadata": {},
   "outputs": [
    {
     "data": {
      "text/html": [
       "<div>\n",
       "<style scoped>\n",
       "    .dataframe tbody tr th:only-of-type {\n",
       "        vertical-align: middle;\n",
       "    }\n",
       "\n",
       "    .dataframe tbody tr th {\n",
       "        vertical-align: top;\n",
       "    }\n",
       "\n",
       "    .dataframe thead th {\n",
       "        text-align: right;\n",
       "    }\n",
       "</style>\n",
       "<table border=\"1\" class=\"dataframe\">\n",
       "  <thead>\n",
       "    <tr style=\"text-align: right;\">\n",
       "      <th></th>\n",
       "      <th>date</th>\n",
       "      <th>team</th>\n",
       "      <th>opponent</th>\n",
       "      <th>score</th>\n",
       "      <th>elo</th>\n",
       "      <th>opponent_elo</th>\n",
       "      <th>home_match</th>\n",
       "      <th>result</th>\n",
       "      <th>match</th>\n",
       "      <th>last_result</th>\n",
       "      <th>...</th>\n",
       "      <th>last3_result_opponent</th>\n",
       "      <th>ewm_score_opponent</th>\n",
       "      <th>last_result_diff</th>\n",
       "      <th>last3_result_diff</th>\n",
       "      <th>ewm_score_diff</th>\n",
       "      <th>elo_diff</th>\n",
       "      <th>team_enc</th>\n",
       "      <th>opponent_enc</th>\n",
       "      <th>result_pred</th>\n",
       "      <th>score_pred</th>\n",
       "    </tr>\n",
       "  </thead>\n",
       "  <tbody>\n",
       "    <tr>\n",
       "      <th>6160</th>\n",
       "      <td>2011-01-17</td>\n",
       "      <td>KSA</td>\n",
       "      <td>JPN</td>\n",
       "      <td>0</td>\n",
       "      <td>1216.755</td>\n",
       "      <td>1312.475</td>\n",
       "      <td>0</td>\n",
       "      <td>-1</td>\n",
       "      <td>JPN-KSA</td>\n",
       "      <td>0.0</td>\n",
       "      <td>...</td>\n",
       "      <td>-0.333333</td>\n",
       "      <td>1.164841</td>\n",
       "      <td>1.0</td>\n",
       "      <td>0.0</td>\n",
       "      <td>0.015525</td>\n",
       "      <td>-95.72</td>\n",
       "      <td>18</td>\n",
       "      <td>17</td>\n",
       "      <td>-1</td>\n",
       "      <td>1</td>\n",
       "    </tr>\n",
       "    <tr>\n",
       "      <th>6161</th>\n",
       "      <td>2011-01-17</td>\n",
       "      <td>JPN</td>\n",
       "      <td>KSA</td>\n",
       "      <td>4</td>\n",
       "      <td>1312.475</td>\n",
       "      <td>1216.755</td>\n",
       "      <td>1</td>\n",
       "      <td>1</td>\n",
       "      <td>JPN-KSA</td>\n",
       "      <td>1.0</td>\n",
       "      <td>...</td>\n",
       "      <td>0.333333</td>\n",
       "      <td>1.095458</td>\n",
       "      <td>1.0</td>\n",
       "      <td>0.0</td>\n",
       "      <td>0.356740</td>\n",
       "      <td>95.72</td>\n",
       "      <td>17</td>\n",
       "      <td>18</td>\n",
       "      <td>1</td>\n",
       "      <td>1</td>\n",
       "    </tr>\n",
       "  </tbody>\n",
       "</table>\n",
       "<p>2 rows × 23 columns</p>\n",
       "</div>"
      ],
      "text/plain": [
       "           date team opponent  score       elo  opponent_elo  home_match  \\\n",
       "6160 2011-01-17  KSA      JPN      0  1216.755      1312.475           0   \n",
       "6161 2011-01-17  JPN      KSA      4  1312.475      1216.755           1   \n",
       "\n",
       "      result    match  last_result  ...  last3_result_opponent  \\\n",
       "6160      -1  JPN-KSA          0.0  ...              -0.333333   \n",
       "6161       1  JPN-KSA          1.0  ...               0.333333   \n",
       "\n",
       "      ewm_score_opponent  last_result_diff  last3_result_diff  ewm_score_diff  \\\n",
       "6160            1.164841               1.0                0.0        0.015525   \n",
       "6161            1.095458               1.0                0.0        0.356740   \n",
       "\n",
       "      elo_diff  team_enc  opponent_enc  result_pred  score_pred  \n",
       "6160    -95.72        18            17           -1           1  \n",
       "6161     95.72        17            18            1           1  \n",
       "\n",
       "[2 rows x 23 columns]"
      ]
     },
     "execution_count": 28,
     "metadata": {},
     "output_type": "execute_result"
    }
   ],
   "source": [
    "test.head(2)"
   ]
  },
  {
   "cell_type": "code",
   "execution_count": 29,
   "metadata": {},
   "outputs": [],
   "source": [
    "test_pivot = pd.pivot_table(test, index=[\"date\",\"match\"], \n",
    "                            values=[\"score_pred\"], columns=[\"home_match\"], \n",
    "                            aggfunc=\"sum\").reset_index()"
   ]
  },
  {
   "cell_type": "code",
   "execution_count": 30,
   "metadata": {},
   "outputs": [],
   "source": [
    "test_pivot.columns = [c[0]+str(c[1]) for c in test_pivot.columns]"
   ]
  },
  {
   "cell_type": "code",
   "execution_count": 31,
   "metadata": {},
   "outputs": [
    {
     "data": {
      "text/html": [
       "<div>\n",
       "<style scoped>\n",
       "    .dataframe tbody tr th:only-of-type {\n",
       "        vertical-align: middle;\n",
       "    }\n",
       "\n",
       "    .dataframe tbody tr th {\n",
       "        vertical-align: top;\n",
       "    }\n",
       "\n",
       "    .dataframe thead th {\n",
       "        text-align: right;\n",
       "    }\n",
       "</style>\n",
       "<table border=\"1\" class=\"dataframe\">\n",
       "  <thead>\n",
       "    <tr style=\"text-align: right;\">\n",
       "      <th></th>\n",
       "      <th>date</th>\n",
       "      <th>match</th>\n",
       "      <th>score_pred0</th>\n",
       "      <th>score_pred1</th>\n",
       "    </tr>\n",
       "  </thead>\n",
       "  <tbody>\n",
       "    <tr>\n",
       "      <th>0</th>\n",
       "      <td>2011-01-17</td>\n",
       "      <td>JPN-KSA</td>\n",
       "      <td>1</td>\n",
       "      <td>1</td>\n",
       "    </tr>\n",
       "    <tr>\n",
       "      <th>1</th>\n",
       "      <td>2011-01-21</td>\n",
       "      <td>JPN-QAT</td>\n",
       "      <td>2</td>\n",
       "      <td>1</td>\n",
       "    </tr>\n",
       "    <tr>\n",
       "      <th>2</th>\n",
       "      <td>2011-02-09</td>\n",
       "      <td>ARG-POR</td>\n",
       "      <td>1</td>\n",
       "      <td>1</td>\n",
       "    </tr>\n",
       "    <tr>\n",
       "      <th>3</th>\n",
       "      <td>2011-02-09</td>\n",
       "      <td>BRA-FRA</td>\n",
       "      <td>1</td>\n",
       "      <td>1</td>\n",
       "    </tr>\n",
       "    <tr>\n",
       "      <th>4</th>\n",
       "      <td>2011-02-09</td>\n",
       "      <td>DEN-ENG</td>\n",
       "      <td>1</td>\n",
       "      <td>1</td>\n",
       "    </tr>\n",
       "    <tr>\n",
       "      <th>...</th>\n",
       "      <td>...</td>\n",
       "      <td>...</td>\n",
       "      <td>...</td>\n",
       "      <td>...</td>\n",
       "    </tr>\n",
       "    <tr>\n",
       "      <th>528</th>\n",
       "      <td>2019-10-15</td>\n",
       "      <td>CAN-USA</td>\n",
       "      <td>2</td>\n",
       "      <td>0</td>\n",
       "    </tr>\n",
       "    <tr>\n",
       "      <th>529</th>\n",
       "      <td>2019-10-15</td>\n",
       "      <td>ICP-1-URU</td>\n",
       "      <td>0</td>\n",
       "      <td>1</td>\n",
       "    </tr>\n",
       "    <tr>\n",
       "      <th>530</th>\n",
       "      <td>2019-11-15</td>\n",
       "      <td>CAN-USA</td>\n",
       "      <td>0</td>\n",
       "      <td>2</td>\n",
       "    </tr>\n",
       "    <tr>\n",
       "      <th>531</th>\n",
       "      <td>2019-11-18</td>\n",
       "      <td>ARG-URU</td>\n",
       "      <td>1</td>\n",
       "      <td>1</td>\n",
       "    </tr>\n",
       "    <tr>\n",
       "      <th>532</th>\n",
       "      <td>2019-12-05</td>\n",
       "      <td>KSA-QAT</td>\n",
       "      <td>3</td>\n",
       "      <td>0</td>\n",
       "    </tr>\n",
       "  </tbody>\n",
       "</table>\n",
       "<p>533 rows × 4 columns</p>\n",
       "</div>"
      ],
      "text/plain": [
       "          date      match  score_pred0  score_pred1\n",
       "0   2011-01-17    JPN-KSA            1            1\n",
       "1   2011-01-21    JPN-QAT            2            1\n",
       "2   2011-02-09    ARG-POR            1            1\n",
       "3   2011-02-09    BRA-FRA            1            1\n",
       "4   2011-02-09    DEN-ENG            1            1\n",
       "..         ...        ...          ...          ...\n",
       "528 2019-10-15    CAN-USA            2            0\n",
       "529 2019-10-15  ICP-1-URU            0            1\n",
       "530 2019-11-15    CAN-USA            0            2\n",
       "531 2019-11-18    ARG-URU            1            1\n",
       "532 2019-12-05    KSA-QAT            3            0\n",
       "\n",
       "[533 rows x 4 columns]"
      ]
     },
     "execution_count": 31,
     "metadata": {},
     "output_type": "execute_result"
    }
   ],
   "source": [
    "test_pivot"
   ]
  },
  {
   "cell_type": "code",
   "execution_count": 32,
   "metadata": {},
   "outputs": [],
   "source": [
    "test_pivot[\"results_pred\"] = np.where(test_pivot['score_pred1'] > test_pivot['score_pred0'], 1, \n",
    "         np.where(test_pivot['score_pred1'] < test_pivot['score_pred0'], -1, 0)\n",
    "        )"
   ]
  },
  {
   "cell_type": "code",
   "execution_count": 33,
   "metadata": {},
   "outputs": [
    {
     "data": {
      "text/html": [
       "<div>\n",
       "<style scoped>\n",
       "    .dataframe tbody tr th:only-of-type {\n",
       "        vertical-align: middle;\n",
       "    }\n",
       "\n",
       "    .dataframe tbody tr th {\n",
       "        vertical-align: top;\n",
       "    }\n",
       "\n",
       "    .dataframe thead th {\n",
       "        text-align: right;\n",
       "    }\n",
       "</style>\n",
       "<table border=\"1\" class=\"dataframe\">\n",
       "  <thead>\n",
       "    <tr style=\"text-align: right;\">\n",
       "      <th></th>\n",
       "      <th>date</th>\n",
       "      <th>team</th>\n",
       "      <th>opponent</th>\n",
       "      <th>score</th>\n",
       "      <th>elo</th>\n",
       "      <th>opponent_elo</th>\n",
       "      <th>home_match</th>\n",
       "      <th>result</th>\n",
       "      <th>match</th>\n",
       "      <th>last_result</th>\n",
       "      <th>...</th>\n",
       "      <th>last3_result_opponent</th>\n",
       "      <th>ewm_score_opponent</th>\n",
       "      <th>last_result_diff</th>\n",
       "      <th>last3_result_diff</th>\n",
       "      <th>ewm_score_diff</th>\n",
       "      <th>elo_diff</th>\n",
       "      <th>team_enc</th>\n",
       "      <th>opponent_enc</th>\n",
       "      <th>result_pred</th>\n",
       "      <th>score_pred</th>\n",
       "    </tr>\n",
       "  </thead>\n",
       "  <tbody>\n",
       "    <tr>\n",
       "      <th>6160</th>\n",
       "      <td>2011-01-17</td>\n",
       "      <td>KSA</td>\n",
       "      <td>JPN</td>\n",
       "      <td>0</td>\n",
       "      <td>1216.755</td>\n",
       "      <td>1312.475</td>\n",
       "      <td>0</td>\n",
       "      <td>-1</td>\n",
       "      <td>JPN-KSA</td>\n",
       "      <td>0.0</td>\n",
       "      <td>...</td>\n",
       "      <td>-0.333333</td>\n",
       "      <td>1.164841</td>\n",
       "      <td>1.0</td>\n",
       "      <td>0.000000</td>\n",
       "      <td>0.015525</td>\n",
       "      <td>-95.72</td>\n",
       "      <td>18</td>\n",
       "      <td>17</td>\n",
       "      <td>-1</td>\n",
       "      <td>1</td>\n",
       "    </tr>\n",
       "    <tr>\n",
       "      <th>6161</th>\n",
       "      <td>2011-01-17</td>\n",
       "      <td>JPN</td>\n",
       "      <td>KSA</td>\n",
       "      <td>4</td>\n",
       "      <td>1312.475</td>\n",
       "      <td>1216.755</td>\n",
       "      <td>1</td>\n",
       "      <td>1</td>\n",
       "      <td>JPN-KSA</td>\n",
       "      <td>1.0</td>\n",
       "      <td>...</td>\n",
       "      <td>0.333333</td>\n",
       "      <td>1.095458</td>\n",
       "      <td>1.0</td>\n",
       "      <td>0.000000</td>\n",
       "      <td>0.356740</td>\n",
       "      <td>95.72</td>\n",
       "      <td>17</td>\n",
       "      <td>18</td>\n",
       "      <td>1</td>\n",
       "      <td>1</td>\n",
       "    </tr>\n",
       "    <tr>\n",
       "      <th>6162</th>\n",
       "      <td>2011-01-21</td>\n",
       "      <td>QAT</td>\n",
       "      <td>JPN</td>\n",
       "      <td>2</td>\n",
       "      <td>1191.545</td>\n",
       "      <td>1327.115</td>\n",
       "      <td>1</td>\n",
       "      <td>-1</td>\n",
       "      <td>JPN-QAT</td>\n",
       "      <td>0.0</td>\n",
       "      <td>...</td>\n",
       "      <td>-1.000000</td>\n",
       "      <td>0.953052</td>\n",
       "      <td>1.0</td>\n",
       "      <td>1.000000</td>\n",
       "      <td>0.214783</td>\n",
       "      <td>-135.57</td>\n",
       "      <td>24</td>\n",
       "      <td>17</td>\n",
       "      <td>0</td>\n",
       "      <td>1</td>\n",
       "    </tr>\n",
       "    <tr>\n",
       "      <th>6163</th>\n",
       "      <td>2011-01-21</td>\n",
       "      <td>JPN</td>\n",
       "      <td>QAT</td>\n",
       "      <td>3</td>\n",
       "      <td>1327.115</td>\n",
       "      <td>1191.545</td>\n",
       "      <td>0</td>\n",
       "      <td>1</td>\n",
       "      <td>JPN-QAT</td>\n",
       "      <td>1.0</td>\n",
       "      <td>...</td>\n",
       "      <td>0.000000</td>\n",
       "      <td>1.685557</td>\n",
       "      <td>1.0</td>\n",
       "      <td>1.000000</td>\n",
       "      <td>0.411696</td>\n",
       "      <td>135.57</td>\n",
       "      <td>17</td>\n",
       "      <td>24</td>\n",
       "      <td>1</td>\n",
       "      <td>2</td>\n",
       "    </tr>\n",
       "    <tr>\n",
       "      <th>6164</th>\n",
       "      <td>2011-02-09</td>\n",
       "      <td>ARG</td>\n",
       "      <td>POR</td>\n",
       "      <td>2</td>\n",
       "      <td>1438.260</td>\n",
       "      <td>1366.230</td>\n",
       "      <td>0</td>\n",
       "      <td>1</td>\n",
       "      <td>ARG-POR</td>\n",
       "      <td>1.0</td>\n",
       "      <td>...</td>\n",
       "      <td>-0.333333</td>\n",
       "      <td>1.209367</td>\n",
       "      <td>2.0</td>\n",
       "      <td>0.666667</td>\n",
       "      <td>0.415673</td>\n",
       "      <td>72.03</td>\n",
       "      <td>0</td>\n",
       "      <td>23</td>\n",
       "      <td>1</td>\n",
       "      <td>1</td>\n",
       "    </tr>\n",
       "  </tbody>\n",
       "</table>\n",
       "<p>5 rows × 23 columns</p>\n",
       "</div>"
      ],
      "text/plain": [
       "           date team opponent  score       elo  opponent_elo  home_match  \\\n",
       "6160 2011-01-17  KSA      JPN      0  1216.755      1312.475           0   \n",
       "6161 2011-01-17  JPN      KSA      4  1312.475      1216.755           1   \n",
       "6162 2011-01-21  QAT      JPN      2  1191.545      1327.115           1   \n",
       "6163 2011-01-21  JPN      QAT      3  1327.115      1191.545           0   \n",
       "6164 2011-02-09  ARG      POR      2  1438.260      1366.230           0   \n",
       "\n",
       "      result    match  last_result  ...  last3_result_opponent  \\\n",
       "6160      -1  JPN-KSA          0.0  ...              -0.333333   \n",
       "6161       1  JPN-KSA          1.0  ...               0.333333   \n",
       "6162      -1  JPN-QAT          0.0  ...              -1.000000   \n",
       "6163       1  JPN-QAT          1.0  ...               0.000000   \n",
       "6164       1  ARG-POR          1.0  ...              -0.333333   \n",
       "\n",
       "      ewm_score_opponent  last_result_diff  last3_result_diff  ewm_score_diff  \\\n",
       "6160            1.164841               1.0           0.000000        0.015525   \n",
       "6161            1.095458               1.0           0.000000        0.356740   \n",
       "6162            0.953052               1.0           1.000000        0.214783   \n",
       "6163            1.685557               1.0           1.000000        0.411696   \n",
       "6164            1.209367               2.0           0.666667        0.415673   \n",
       "\n",
       "      elo_diff  team_enc  opponent_enc  result_pred  score_pred  \n",
       "6160    -95.72        18            17           -1           1  \n",
       "6161     95.72        17            18            1           1  \n",
       "6162   -135.57        24            17            0           1  \n",
       "6163    135.57        17            24            1           2  \n",
       "6164     72.03         0            23            1           1  \n",
       "\n",
       "[5 rows x 23 columns]"
      ]
     },
     "execution_count": 33,
     "metadata": {},
     "output_type": "execute_result"
    }
   ],
   "source": [
    "test.head()"
   ]
  },
  {
   "cell_type": "code",
   "execution_count": 34,
   "metadata": {},
   "outputs": [],
   "source": [
    "test = test.merge(test_pivot[[\"date\",\"match\",\"results_pred\"]], on=[\"date\",\"match\"])"
   ]
  },
  {
   "cell_type": "code",
   "execution_count": 35,
   "metadata": {},
   "outputs": [
    {
     "data": {
      "text/plain": [
       "0.32926829268292684"
      ]
     },
     "execution_count": 35,
     "metadata": {},
     "output_type": "execute_result"
    }
   ],
   "source": [
    "accuracy_score(test[\"result\"], test[\"results_pred\"])"
   ]
  },
  {
   "cell_type": "code",
   "execution_count": 36,
   "metadata": {},
   "outputs": [
    {
     "data": {
      "text/plain": [
       "<BarContainer object of 15 artists>"
      ]
     },
     "execution_count": 36,
     "metadata": {},
     "output_type": "execute_result"
    },
    {
     "data": {
      "image/png": "[encoded data removed]",
      "text/plain": [
       "<Figure size 432x288 with 1 Axes>"
      ]
     },
     "metadata": {
      "needs_background": "light"
     },
     "output_type": "display_data"
    }
   ],
   "source": [
    "data={'feature_names':np.array(train[features].columns),\n",
    "      'feature_importance':np.array(goal_model.feature_importances_)}\n",
    "fi_df = pd.DataFrame(data).sort_values([\"feature_importance\"], ascending=True)\n",
    "plt.barh(fi_df[\"feature_names\"].values, fi_df[\"feature_importance\"].values)"
   ]
  }
 ],
 "metadata": {
  "interpreter": {
   "hash": "ecbe09445d2d560a5da9c8a94d87f299626bdd4f1e8554b26ec033f76ecca7a0"
  },
  "kernelspec": {
   "display_name": "Python 3",
   "language": "python",
   "name": "python3"
  },
  "language_info": {
   "codemirror_mode": {
    "name": "ipython",
    "version": 3
   },
   "file_extension": ".py",
   "mimetype": "text/x-python",
   "name": "python",
   "nbconvert_exporter": "python",
   "pygments_lexer": "ipython3",
   "version": "3.7.10"
  }
 },
 "nbformat": 4,
 "nbformat_minor": 2
}
